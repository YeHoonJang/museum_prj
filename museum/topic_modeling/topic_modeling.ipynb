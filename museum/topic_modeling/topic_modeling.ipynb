{
 "cells": [
  {
   "cell_type": "code",
   "execution_count": 22,
   "metadata": {},
   "outputs": [],
   "source": [
    "import nltk\n",
    "import json\n",
    "import pandas as pd\n",
    "from glob import glob\n",
    "from konlpy.tag import Okt\n",
    "from nltk.tokenize import word_tokenize\n",
    "twitter = Okt()"
   ]
  },
  {
   "cell_type": "code",
   "execution_count": 23,
   "metadata": {},
   "outputs": [],
   "source": [
    "caption_list=[]\n",
    "\n",
    "files = glob('../이미지캡셔닝/*/*.json')\n",
    "for filename in files:\n",
    "    with open(filename, encoding='UTF8') as f:\n",
    "        d = json.load(f)\n",
    "        for key in d.keys():\n",
    "            for i in range(len(d[str(key)])):\n",
    "                caption_list.append(d[str(key)][i]['caption'])\n",
    "\n",
    "with open(\"./caption.txt\",\"w\", encoding = 'UTF8') as f:\n",
    "    for caption in caption_list:\n",
    "        f.write(f'{caption}\\n')"
   ]
  },
  {
   "cell_type": "code",
   "execution_count": 24,
   "metadata": {},
   "outputs": [],
   "source": [
    "with open(\"./caption.txt\", encoding='UTF8') as f:\n",
    "    captions=f.readlines()"
   ]
  },
  {
   "cell_type": "code",
   "execution_count": 25,
   "metadata": {},
   "outputs": [
    {
     "name": "stderr",
     "output_type": "stream",
     "text": [
      "[nltk_data] Downloading package punkt to /Users/yehoon/nltk_data...\n",
      "[nltk_data]   Package punkt is already up-to-date!\n"
     ]
    }
   ],
   "source": [
    "nltk.download('punkt')\n",
    "stop_words = ['.','있다.','있는','이','의','를','에','을', '있', '하', '것', '들', '그', '되', \n",
    "              '수', '이', '보', '않', '없', '나', '사람', '주', '아니', '등', '같', '우리', '때', '년', \n",
    "              '가', '한', '지', '대하', '오', '말', '일', '그렇', '위하']"
   ]
  },
  {
   "cell_type": "code",
   "execution_count": 26,
   "metadata": {},
   "outputs": [
    {
     "name": "stderr",
     "output_type": "stream",
     "text": [
      "/Users/yehoon/opt/anaconda3/lib/python3.7/site-packages/ipykernel_launcher.py:2: FutureWarning: The default value of regex will change from True to False in a future version.\n",
      "  \n"
     ]
    }
   ],
   "source": [
    "caption = pd.DataFrame({'caption':captions})\n",
    "caption['clean_caption'] = caption['caption'].str.replace(\"^[가-힣a-zA-Z]+$\", \" \")"
   ]
  },
  {
   "cell_type": "code",
   "execution_count": 27,
   "metadata": {},
   "outputs": [],
   "source": [
    "caption['clean_caption'][0]\n",
    "tokenized_caption = caption['clean_caption'].apply(lambda x: x.split()) # 토큰화\n",
    "tokenized_caption = tokenized_caption.apply(lambda x: [item for item in x if item not in stop_words])\n",
    "result = []"
   ]
  },
  {
   "cell_type": "code",
   "execution_count": 28,
   "metadata": {},
   "outputs": [],
   "source": [
    "from gensim import corpora"
   ]
  },
  {
   "cell_type": "code",
   "execution_count": 29,
   "metadata": {},
   "outputs": [],
   "source": [
    "dictionary = corpora.Dictionary(tokenized_caption)\n",
    "corpus = [dictionary.doc2bow(text) for text in tokenized_caption]"
   ]
  },
  {
   "cell_type": "code",
   "execution_count": 30,
   "metadata": {},
   "outputs": [
    {
     "name": "stdout",
     "output_type": "stream",
     "text": [
      "(0, '0.096*\"색\" + 0.064*\"앞에\" + 0.061*\"흰색\" + 0.054*\"빨간\" + 0.035*\"텔레비전\" + 0.032*\"검은\" + 0.031*\"건물의\" + 0.029*\"색과\" + 0.028*\"노란\" + 0.023*\"새겨진\"')\n",
      "(1, '0.145*\"앉아\" + 0.073*\"나무\" + 0.031*\"의자에\" + 0.029*\"바닥에\" + 0.029*\"의자,\" + 0.027*\"방\" + 0.026*\"의자\" + 0.022*\"테이블에\" + 0.021*\"근접\" + 0.020*\"남자가\"')\n",
      "(2, '0.159*\"서\" + 0.091*\"옆에\" + 0.039*\"기대어\" + 0.038*\"건물\" + 0.031*\"꽃이\" + 0.030*\"밤에\" + 0.029*\"남자가\" + 0.024*\"남자\" + 0.024*\"벽에\" + 0.023*\"여자\"')\n",
      "(3, '0.045*\"하고\" + 0.034*\"사람이\" + 0.033*\"남자가\" + 0.031*\"전화를\" + 0.030*\"창문이\" + 0.028*\"욕실\" + 0.020*\"서서\" + 0.020*\"많은\" + 0.020*\"걷고\" + 0.017*\"거울이\"')\n",
      "(4, '0.146*\"벽에\" + 0.076*\"걸린\" + 0.072*\"큰\" + 0.065*\"걸려\" + 0.052*\"건물\" + 0.048*\"그림\" + 0.033*\"흰색과\" + 0.032*\"붙어\" + 0.029*\"표지판\" + 0.027*\"그림의\"')\n",
      "(5, '0.074*\"무리의\" + 0.058*\"사람들이\" + 0.051*\"사진\" + 0.031*\"서\" + 0.025*\"된\" + 0.024*\"밖에\" + 0.020*\"방의\" + 0.019*\"텔레비전이\" + 0.018*\"흑백\" + 0.018*\"건물\"')\n",
      "(6, '0.112*\"창문\" + 0.074*\"옆에\" + 0.057*\"금속\" + 0.047*\"앉아\" + 0.043*\"창문에\" + 0.040*\"큰\" + 0.038*\"아래에\" + 0.036*\"그림이\" + 0.033*\"그려진\" + 0.018*\"창문이\"')\n",
      "(7, '0.185*\"위에\" + 0.124*\"놓여\" + 0.109*\"나무\" + 0.097*\"탁자\" + 0.031*\"앉아\" + 0.025*\"테이블\" + 0.025*\"흰\" + 0.017*\"하얀\" + 0.014*\"흰색\" + 0.014*\"침대\"')\n",
      "(8, '0.032*\"화려한\" + 0.031*\"비친\" + 0.031*\"거울에\" + 0.029*\"사진을\" + 0.024*\"남자가\" + 0.023*\"여자가\" + 0.023*\"보고\" + 0.021*\"위해\" + 0.019*\"찍고\" + 0.019*\"화장실\"')\n",
      "(9, '0.091*\"들고\" + 0.063*\"어린\" + 0.060*\"남자가\" + 0.039*\"소년이\" + 0.032*\"보드를\" + 0.031*\"넥타이를\" + 0.029*\"스케이트\" + 0.024*\"표지가\" + 0.024*\"타고\" + 0.021*\"소녀가\"')\n"
     ]
    }
   ],
   "source": [
    "import gensim\n",
    "NUM_TOPICS = 10 #20개의 토픽, k=20\n",
    "ldamodel = gensim.models.ldamodel.LdaModel(corpus, num_topics = NUM_TOPICS, id2word=dictionary, passes=15)\n",
    "topics = ldamodel.print_topics(num_words=10)\n",
    "for topic in topics:\n",
    "    print(topic)"
   ]
  },
  {
   "cell_type": "code",
   "execution_count": 31,
   "metadata": {},
   "outputs": [],
   "source": [
    "# vector = ldamodel[test_doc]\n",
    "# print(vector)"
   ]
  },
  {
   "cell_type": "code",
   "execution_count": 32,
   "metadata": {},
   "outputs": [],
   "source": [
    "test_doc = corpus[-1]\n",
    "vector = ldamodel[test_doc]\n",
    "ldamodel.save('../model/test_model.model')"
   ]
  },
  {
   "cell_type": "code",
   "execution_count": 33,
   "metadata": {},
   "outputs": [
    {
     "name": "stdout",
     "output_type": "stream",
     "text": [
      "[(0, 0.020006139), (1, 0.020000136), (2, 0.020002153), (3, 0.020000136), (4, 0.020000417), (5, 0.020000136), (6, 0.8199881), (7, 0.020001883), (8, 0.020000136), (9, 0.020000787)]\n"
     ]
    }
   ],
   "source": [
    "print(vector)"
   ]
  },
  {
   "cell_type": "code",
   "execution_count": 66,
   "metadata": {},
   "outputs": [],
   "source": [
    "new_model = gensim.models.ldamodel.LdaModel.load(\"../data/museum/model_topic/test_model.model\")\n"
   ]
  },
  {
   "cell_type": "code",
   "execution_count": null,
   "metadata": {},
   "outputs": [],
   "source": []
  }
 ],
 "metadata": {
  "kernelspec": {
   "display_name": "Python 3",
   "language": "python",
   "name": "python3"
  },
  "language_info": {
   "codemirror_mode": {
    "name": "ipython",
    "version": 3
   },
   "file_extension": ".py",
   "mimetype": "text/x-python",
   "name": "python",
   "nbconvert_exporter": "python",
   "pygments_lexer": "ipython3",
   "version": "3.7.4"
  }
 },
 "nbformat": 4,
 "nbformat_minor": 5
}
